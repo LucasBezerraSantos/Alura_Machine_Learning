{
  "nbformat": 4,
  "nbformat_minor": 0,
  "metadata": {
    "colab": {
      "provenance": [],
      "collapsed_sections": [
        "Z-dNn4lTtAyo",
        "MqiY8P4Nk4ke",
        "F8udPYOQuYAB",
        "AW1ylDyZwXd2",
        "XiZ8bu_mky_r",
        "wlOevB2bm_Y6",
        "weAYT3T7kjGn"
      ],
      "authorship_tag": "ABX9TyPhnclnxRPjrhdFLzJuzILw",
      "include_colab_link": true
    },
    "kernelspec": {
      "name": "python3",
      "display_name": "Python 3"
    },
    "language_info": {
      "name": "python"
    }
  },
  "cells": [
    {
      "cell_type": "markdown",
      "metadata": {
        "id": "view-in-github",
        "colab_type": "text"
      },
      "source": [
        "<a href=\"https://colab.research.google.com/github/LucasBezerraSantos/Alura_Machine_Learning/blob/master/NLP_Classificacao_Tags.ipynb\" target=\"_parent\"><img src=\"https://colab.research.google.com/assets/colab-badge.svg\" alt=\"Open In Colab\"/></a>"
      ]
    },
    {
      "cell_type": "markdown",
      "source": [
        "## Trabalhando com NLP\n",
        "\n",
        "-----------\n",
        "\n",
        "A importância do Processamento de Linguagem Natural (NLP) em técnicas de Machine Learning reside na capacidade de lidar com dados textuais e extrair significado e insights a partir deles. O NLP permite que os algoritmos compreendam, interpretem e processem o texto de maneira similar aos humanos, o que é essencial para lidar com grandes volumes de dados textuais, como redes sociais, documentos, e-mails, entre outros. Abaixo aplicaremos um pequeno estudo de caso, realizando classificaçõs de Tags para perguntas realizadas no **stack overflow**."
      ],
      "metadata": {
        "id": "Z-dNn4lTtAyo"
      }
    },
    {
      "cell_type": "markdown",
      "source": [
        "### Leitura e reconhecimento dos dados"
      ],
      "metadata": {
        "id": "MqiY8P4Nk4ke"
      }
    },
    {
      "cell_type": "code",
      "execution_count": 1,
      "metadata": {
        "id": "z8KdBSFSIQDz"
      },
      "outputs": [],
      "source": [
        "import pandas as pd\n",
        "import numpy as np"
      ]
    },
    {
      "cell_type": "code",
      "source": [
        "dados = pd.read_csv('/content/sample_data/stackoverflow_perguntas.csv')"
      ],
      "metadata": {
        "id": "WI99OpleNuYY"
      },
      "execution_count": 2,
      "outputs": []
    },
    {
      "cell_type": "code",
      "source": [
        "dados.head()"
      ],
      "metadata": {
        "colab": {
          "base_uri": "https://localhost:8080/",
          "height": 0
        },
        "id": "l8wj27wOYvPA",
        "outputId": "e728e952-99e0-406d-b64c-9b47caa2d12b"
      },
      "execution_count": 3,
      "outputs": [
        {
          "output_type": "execute_result",
          "data": {
            "text/plain": [
              "                                           Perguntas           Tags\n",
              "0  Possuo um projeto Node.js porém preciso criar ...        node.js\n",
              "1  Gostaria de fazer testes unitários no Node.js,...        node.js\n",
              "2  Como inverter a ordem com que o jQuery itera u...         jquery\n",
              "3  Eu tenho uma página onde pretendo utilizar um ...           html\n",
              "4  Como exibir os dados retornados do FireStore e...  html angular "
            ],
            "text/html": [
              "\n",
              "  <div id=\"df-c43b96ab-1c0e-4c00-a7b4-a12a3ded6e09\">\n",
              "    <div class=\"colab-df-container\">\n",
              "      <div>\n",
              "<style scoped>\n",
              "    .dataframe tbody tr th:only-of-type {\n",
              "        vertical-align: middle;\n",
              "    }\n",
              "\n",
              "    .dataframe tbody tr th {\n",
              "        vertical-align: top;\n",
              "    }\n",
              "\n",
              "    .dataframe thead th {\n",
              "        text-align: right;\n",
              "    }\n",
              "</style>\n",
              "<table border=\"1\" class=\"dataframe\">\n",
              "  <thead>\n",
              "    <tr style=\"text-align: right;\">\n",
              "      <th></th>\n",
              "      <th>Perguntas</th>\n",
              "      <th>Tags</th>\n",
              "    </tr>\n",
              "  </thead>\n",
              "  <tbody>\n",
              "    <tr>\n",
              "      <th>0</th>\n",
              "      <td>Possuo um projeto Node.js porém preciso criar ...</td>\n",
              "      <td>node.js</td>\n",
              "    </tr>\n",
              "    <tr>\n",
              "      <th>1</th>\n",
              "      <td>Gostaria de fazer testes unitários no Node.js,...</td>\n",
              "      <td>node.js</td>\n",
              "    </tr>\n",
              "    <tr>\n",
              "      <th>2</th>\n",
              "      <td>Como inverter a ordem com que o jQuery itera u...</td>\n",
              "      <td>jquery</td>\n",
              "    </tr>\n",
              "    <tr>\n",
              "      <th>3</th>\n",
              "      <td>Eu tenho uma página onde pretendo utilizar um ...</td>\n",
              "      <td>html</td>\n",
              "    </tr>\n",
              "    <tr>\n",
              "      <th>4</th>\n",
              "      <td>Como exibir os dados retornados do FireStore e...</td>\n",
              "      <td>html angular</td>\n",
              "    </tr>\n",
              "  </tbody>\n",
              "</table>\n",
              "</div>\n",
              "      <button class=\"colab-df-convert\" onclick=\"convertToInteractive('df-c43b96ab-1c0e-4c00-a7b4-a12a3ded6e09')\"\n",
              "              title=\"Convert this dataframe to an interactive table.\"\n",
              "              style=\"display:none;\">\n",
              "        \n",
              "  <svg xmlns=\"http://www.w3.org/2000/svg\" height=\"24px\"viewBox=\"0 0 24 24\"\n",
              "       width=\"24px\">\n",
              "    <path d=\"M0 0h24v24H0V0z\" fill=\"none\"/>\n",
              "    <path d=\"M18.56 5.44l.94 2.06.94-2.06 2.06-.94-2.06-.94-.94-2.06-.94 2.06-2.06.94zm-11 1L8.5 8.5l.94-2.06 2.06-.94-2.06-.94L8.5 2.5l-.94 2.06-2.06.94zm10 10l.94 2.06.94-2.06 2.06-.94-2.06-.94-.94-2.06-.94 2.06-2.06.94z\"/><path d=\"M17.41 7.96l-1.37-1.37c-.4-.4-.92-.59-1.43-.59-.52 0-1.04.2-1.43.59L10.3 9.45l-7.72 7.72c-.78.78-.78 2.05 0 2.83L4 21.41c.39.39.9.59 1.41.59.51 0 1.02-.2 1.41-.59l7.78-7.78 2.81-2.81c.8-.78.8-2.07 0-2.86zM5.41 20L4 18.59l7.72-7.72 1.47 1.35L5.41 20z\"/>\n",
              "  </svg>\n",
              "      </button>\n",
              "      \n",
              "  <style>\n",
              "    .colab-df-container {\n",
              "      display:flex;\n",
              "      flex-wrap:wrap;\n",
              "      gap: 12px;\n",
              "    }\n",
              "\n",
              "    .colab-df-convert {\n",
              "      background-color: #E8F0FE;\n",
              "      border: none;\n",
              "      border-radius: 50%;\n",
              "      cursor: pointer;\n",
              "      display: none;\n",
              "      fill: #1967D2;\n",
              "      height: 32px;\n",
              "      padding: 0 0 0 0;\n",
              "      width: 32px;\n",
              "    }\n",
              "\n",
              "    .colab-df-convert:hover {\n",
              "      background-color: #E2EBFA;\n",
              "      box-shadow: 0px 1px 2px rgba(60, 64, 67, 0.3), 0px 1px 3px 1px rgba(60, 64, 67, 0.15);\n",
              "      fill: #174EA6;\n",
              "    }\n",
              "\n",
              "    [theme=dark] .colab-df-convert {\n",
              "      background-color: #3B4455;\n",
              "      fill: #D2E3FC;\n",
              "    }\n",
              "\n",
              "    [theme=dark] .colab-df-convert:hover {\n",
              "      background-color: #434B5C;\n",
              "      box-shadow: 0px 1px 3px 1px rgba(0, 0, 0, 0.15);\n",
              "      filter: drop-shadow(0px 1px 2px rgba(0, 0, 0, 0.3));\n",
              "      fill: #FFFFFF;\n",
              "    }\n",
              "  </style>\n",
              "\n",
              "      <script>\n",
              "        const buttonEl =\n",
              "          document.querySelector('#df-c43b96ab-1c0e-4c00-a7b4-a12a3ded6e09 button.colab-df-convert');\n",
              "        buttonEl.style.display =\n",
              "          google.colab.kernel.accessAllowed ? 'block' : 'none';\n",
              "\n",
              "        async function convertToInteractive(key) {\n",
              "          const element = document.querySelector('#df-c43b96ab-1c0e-4c00-a7b4-a12a3ded6e09');\n",
              "          const dataTable =\n",
              "            await google.colab.kernel.invokeFunction('convertToInteractive',\n",
              "                                                     [key], {});\n",
              "          if (!dataTable) return;\n",
              "\n",
              "          const docLinkHtml = 'Like what you see? Visit the ' +\n",
              "            '<a target=\"_blank\" href=https://colab.research.google.com/notebooks/data_table.ipynb>data table notebook</a>'\n",
              "            + ' to learn more about interactive tables.';\n",
              "          element.innerHTML = '';\n",
              "          dataTable['output_type'] = 'display_data';\n",
              "          await google.colab.output.renderOutput(dataTable, element);\n",
              "          const docLink = document.createElement('div');\n",
              "          docLink.innerHTML = docLinkHtml;\n",
              "          element.appendChild(docLink);\n",
              "        }\n",
              "      </script>\n",
              "    </div>\n",
              "  </div>\n",
              "  "
            ]
          },
          "metadata": {},
          "execution_count": 3
        }
      ]
    },
    {
      "cell_type": "code",
      "source": [
        "dados.describe()"
      ],
      "metadata": {
        "colab": {
          "base_uri": "https://localhost:8080/",
          "height": 0
        },
        "id": "5Jn24bstSQCn",
        "outputId": "c9365a30-2211-40f9-b367-839adeaf53e1"
      },
      "execution_count": 4,
      "outputs": [
        {
          "output_type": "execute_result",
          "data": {
            "text/plain": [
              "       Perguntas    Tags\n",
              "count       5408    5408\n",
              "unique      5384      37\n",
              "top         CODE  jquery\n",
              "freq          19    1320"
            ],
            "text/html": [
              "\n",
              "  <div id=\"df-99f33263-679b-4ebe-b20c-098c97eb17c3\">\n",
              "    <div class=\"colab-df-container\">\n",
              "      <div>\n",
              "<style scoped>\n",
              "    .dataframe tbody tr th:only-of-type {\n",
              "        vertical-align: middle;\n",
              "    }\n",
              "\n",
              "    .dataframe tbody tr th {\n",
              "        vertical-align: top;\n",
              "    }\n",
              "\n",
              "    .dataframe thead th {\n",
              "        text-align: right;\n",
              "    }\n",
              "</style>\n",
              "<table border=\"1\" class=\"dataframe\">\n",
              "  <thead>\n",
              "    <tr style=\"text-align: right;\">\n",
              "      <th></th>\n",
              "      <th>Perguntas</th>\n",
              "      <th>Tags</th>\n",
              "    </tr>\n",
              "  </thead>\n",
              "  <tbody>\n",
              "    <tr>\n",
              "      <th>count</th>\n",
              "      <td>5408</td>\n",
              "      <td>5408</td>\n",
              "    </tr>\n",
              "    <tr>\n",
              "      <th>unique</th>\n",
              "      <td>5384</td>\n",
              "      <td>37</td>\n",
              "    </tr>\n",
              "    <tr>\n",
              "      <th>top</th>\n",
              "      <td>CODE</td>\n",
              "      <td>jquery</td>\n",
              "    </tr>\n",
              "    <tr>\n",
              "      <th>freq</th>\n",
              "      <td>19</td>\n",
              "      <td>1320</td>\n",
              "    </tr>\n",
              "  </tbody>\n",
              "</table>\n",
              "</div>\n",
              "      <button class=\"colab-df-convert\" onclick=\"convertToInteractive('df-99f33263-679b-4ebe-b20c-098c97eb17c3')\"\n",
              "              title=\"Convert this dataframe to an interactive table.\"\n",
              "              style=\"display:none;\">\n",
              "        \n",
              "  <svg xmlns=\"http://www.w3.org/2000/svg\" height=\"24px\"viewBox=\"0 0 24 24\"\n",
              "       width=\"24px\">\n",
              "    <path d=\"M0 0h24v24H0V0z\" fill=\"none\"/>\n",
              "    <path d=\"M18.56 5.44l.94 2.06.94-2.06 2.06-.94-2.06-.94-.94-2.06-.94 2.06-2.06.94zm-11 1L8.5 8.5l.94-2.06 2.06-.94-2.06-.94L8.5 2.5l-.94 2.06-2.06.94zm10 10l.94 2.06.94-2.06 2.06-.94-2.06-.94-.94-2.06-.94 2.06-2.06.94z\"/><path d=\"M17.41 7.96l-1.37-1.37c-.4-.4-.92-.59-1.43-.59-.52 0-1.04.2-1.43.59L10.3 9.45l-7.72 7.72c-.78.78-.78 2.05 0 2.83L4 21.41c.39.39.9.59 1.41.59.51 0 1.02-.2 1.41-.59l7.78-7.78 2.81-2.81c.8-.78.8-2.07 0-2.86zM5.41 20L4 18.59l7.72-7.72 1.47 1.35L5.41 20z\"/>\n",
              "  </svg>\n",
              "      </button>\n",
              "      \n",
              "  <style>\n",
              "    .colab-df-container {\n",
              "      display:flex;\n",
              "      flex-wrap:wrap;\n",
              "      gap: 12px;\n",
              "    }\n",
              "\n",
              "    .colab-df-convert {\n",
              "      background-color: #E8F0FE;\n",
              "      border: none;\n",
              "      border-radius: 50%;\n",
              "      cursor: pointer;\n",
              "      display: none;\n",
              "      fill: #1967D2;\n",
              "      height: 32px;\n",
              "      padding: 0 0 0 0;\n",
              "      width: 32px;\n",
              "    }\n",
              "\n",
              "    .colab-df-convert:hover {\n",
              "      background-color: #E2EBFA;\n",
              "      box-shadow: 0px 1px 2px rgba(60, 64, 67, 0.3), 0px 1px 3px 1px rgba(60, 64, 67, 0.15);\n",
              "      fill: #174EA6;\n",
              "    }\n",
              "\n",
              "    [theme=dark] .colab-df-convert {\n",
              "      background-color: #3B4455;\n",
              "      fill: #D2E3FC;\n",
              "    }\n",
              "\n",
              "    [theme=dark] .colab-df-convert:hover {\n",
              "      background-color: #434B5C;\n",
              "      box-shadow: 0px 1px 3px 1px rgba(0, 0, 0, 0.15);\n",
              "      filter: drop-shadow(0px 1px 2px rgba(0, 0, 0, 0.3));\n",
              "      fill: #FFFFFF;\n",
              "    }\n",
              "  </style>\n",
              "\n",
              "      <script>\n",
              "        const buttonEl =\n",
              "          document.querySelector('#df-99f33263-679b-4ebe-b20c-098c97eb17c3 button.colab-df-convert');\n",
              "        buttonEl.style.display =\n",
              "          google.colab.kernel.accessAllowed ? 'block' : 'none';\n",
              "\n",
              "        async function convertToInteractive(key) {\n",
              "          const element = document.querySelector('#df-99f33263-679b-4ebe-b20c-098c97eb17c3');\n",
              "          const dataTable =\n",
              "            await google.colab.kernel.invokeFunction('convertToInteractive',\n",
              "                                                     [key], {});\n",
              "          if (!dataTable) return;\n",
              "\n",
              "          const docLinkHtml = 'Like what you see? Visit the ' +\n",
              "            '<a target=\"_blank\" href=https://colab.research.google.com/notebooks/data_table.ipynb>data table notebook</a>'\n",
              "            + ' to learn more about interactive tables.';\n",
              "          element.innerHTML = '';\n",
              "          dataTable['output_type'] = 'display_data';\n",
              "          await google.colab.output.renderOutput(dataTable, element);\n",
              "          const docLink = document.createElement('div');\n",
              "          docLink.innerHTML = docLinkHtml;\n",
              "          element.appendChild(docLink);\n",
              "        }\n",
              "      </script>\n",
              "    </div>\n",
              "  </div>\n",
              "  "
            ]
          },
          "metadata": {},
          "execution_count": 4
        }
      ]
    },
    {
      "cell_type": "markdown",
      "source": [
        "### Manipulação de dados"
      ],
      "metadata": {
        "id": "F8udPYOQuYAB"
      }
    },
    {
      "cell_type": "markdown",
      "source": [
        "O código a seguir faz a iteração entre cada linha do data series, depois separa onde houver mais de uma palavra, e adiciona na lista caso ainda não tenha sido importada. Com isso, conseguimos verificar todas as tags unicas do conjunto de dados."
      ],
      "metadata": {
        "id": "wzhXMD5LwtWu"
      }
    },
    {
      "cell_type": "code",
      "source": [
        "lista = list()\n",
        "for tags in dados.Tags.unique():\n",
        "  for tag in tags.split():\n",
        "    if tag not in lista:\n",
        "      lista.append(tag)\n",
        "\n",
        "print(lista)"
      ],
      "metadata": {
        "colab": {
          "base_uri": "https://localhost:8080/"
        },
        "id": "c54RlTToSQxg",
        "outputId": "45c7b70c-d157-4052-ce9c-dc2b3028acde"
      },
      "execution_count": 5,
      "outputs": [
        {
          "output_type": "stream",
          "name": "stdout",
          "text": [
            "['node.js', 'jquery', 'html', 'angular']\n"
          ]
        }
      ]
    },
    {
      "cell_type": "markdown",
      "source": [
        "Essa função tem o objetivo de criar colunas no DF para cada TAG. \n",
        "Recebe a lista de tags unicas - identificada pelo código anterior - e itera sobre cada linha do DF retornando 1 quando estiver contida na coluna TAGS e 0 quando não.  "
      ],
      "metadata": {
        "id": "kexNbJk_vBtU"
      }
    },
    {
      "cell_type": "code",
      "source": [
        "def codigo_tag(lista):\n",
        "    for item in lista:\n",
        "        dados[item] = [1 if item in tag else 0 for tag in dados.Tags]\n",
        "    return dados.head()"
      ],
      "metadata": {
        "id": "mu2uHKEtbJC1"
      },
      "execution_count": 6,
      "outputs": []
    },
    {
      "cell_type": "code",
      "source": [
        "codigo_tag(lista)"
      ],
      "metadata": {
        "colab": {
          "base_uri": "https://localhost:8080/",
          "height": 0
        },
        "id": "NHx4TyfxBNBE",
        "outputId": "e5ab00fa-92d3-460b-cc30-ca50569950d3"
      },
      "execution_count": 7,
      "outputs": [
        {
          "output_type": "execute_result",
          "data": {
            "text/plain": [
              "                                           Perguntas           Tags  node.js  \\\n",
              "0  Possuo um projeto Node.js porém preciso criar ...        node.js        1   \n",
              "1  Gostaria de fazer testes unitários no Node.js,...        node.js        1   \n",
              "2  Como inverter a ordem com que o jQuery itera u...         jquery        0   \n",
              "3  Eu tenho uma página onde pretendo utilizar um ...           html        0   \n",
              "4  Como exibir os dados retornados do FireStore e...  html angular         0   \n",
              "\n",
              "   jquery  html  angular  \n",
              "0       0     0        0  \n",
              "1       0     0        0  \n",
              "2       1     0        0  \n",
              "3       0     1        0  \n",
              "4       0     1        1  "
            ],
            "text/html": [
              "\n",
              "  <div id=\"df-6b3a97a9-97f5-4297-a842-2dd7641da9df\">\n",
              "    <div class=\"colab-df-container\">\n",
              "      <div>\n",
              "<style scoped>\n",
              "    .dataframe tbody tr th:only-of-type {\n",
              "        vertical-align: middle;\n",
              "    }\n",
              "\n",
              "    .dataframe tbody tr th {\n",
              "        vertical-align: top;\n",
              "    }\n",
              "\n",
              "    .dataframe thead th {\n",
              "        text-align: right;\n",
              "    }\n",
              "</style>\n",
              "<table border=\"1\" class=\"dataframe\">\n",
              "  <thead>\n",
              "    <tr style=\"text-align: right;\">\n",
              "      <th></th>\n",
              "      <th>Perguntas</th>\n",
              "      <th>Tags</th>\n",
              "      <th>node.js</th>\n",
              "      <th>jquery</th>\n",
              "      <th>html</th>\n",
              "      <th>angular</th>\n",
              "    </tr>\n",
              "  </thead>\n",
              "  <tbody>\n",
              "    <tr>\n",
              "      <th>0</th>\n",
              "      <td>Possuo um projeto Node.js porém preciso criar ...</td>\n",
              "      <td>node.js</td>\n",
              "      <td>1</td>\n",
              "      <td>0</td>\n",
              "      <td>0</td>\n",
              "      <td>0</td>\n",
              "    </tr>\n",
              "    <tr>\n",
              "      <th>1</th>\n",
              "      <td>Gostaria de fazer testes unitários no Node.js,...</td>\n",
              "      <td>node.js</td>\n",
              "      <td>1</td>\n",
              "      <td>0</td>\n",
              "      <td>0</td>\n",
              "      <td>0</td>\n",
              "    </tr>\n",
              "    <tr>\n",
              "      <th>2</th>\n",
              "      <td>Como inverter a ordem com que o jQuery itera u...</td>\n",
              "      <td>jquery</td>\n",
              "      <td>0</td>\n",
              "      <td>1</td>\n",
              "      <td>0</td>\n",
              "      <td>0</td>\n",
              "    </tr>\n",
              "    <tr>\n",
              "      <th>3</th>\n",
              "      <td>Eu tenho uma página onde pretendo utilizar um ...</td>\n",
              "      <td>html</td>\n",
              "      <td>0</td>\n",
              "      <td>0</td>\n",
              "      <td>1</td>\n",
              "      <td>0</td>\n",
              "    </tr>\n",
              "    <tr>\n",
              "      <th>4</th>\n",
              "      <td>Como exibir os dados retornados do FireStore e...</td>\n",
              "      <td>html angular</td>\n",
              "      <td>0</td>\n",
              "      <td>0</td>\n",
              "      <td>1</td>\n",
              "      <td>1</td>\n",
              "    </tr>\n",
              "  </tbody>\n",
              "</table>\n",
              "</div>\n",
              "      <button class=\"colab-df-convert\" onclick=\"convertToInteractive('df-6b3a97a9-97f5-4297-a842-2dd7641da9df')\"\n",
              "              title=\"Convert this dataframe to an interactive table.\"\n",
              "              style=\"display:none;\">\n",
              "        \n",
              "  <svg xmlns=\"http://www.w3.org/2000/svg\" height=\"24px\"viewBox=\"0 0 24 24\"\n",
              "       width=\"24px\">\n",
              "    <path d=\"M0 0h24v24H0V0z\" fill=\"none\"/>\n",
              "    <path d=\"M18.56 5.44l.94 2.06.94-2.06 2.06-.94-2.06-.94-.94-2.06-.94 2.06-2.06.94zm-11 1L8.5 8.5l.94-2.06 2.06-.94-2.06-.94L8.5 2.5l-.94 2.06-2.06.94zm10 10l.94 2.06.94-2.06 2.06-.94-2.06-.94-.94-2.06-.94 2.06-2.06.94z\"/><path d=\"M17.41 7.96l-1.37-1.37c-.4-.4-.92-.59-1.43-.59-.52 0-1.04.2-1.43.59L10.3 9.45l-7.72 7.72c-.78.78-.78 2.05 0 2.83L4 21.41c.39.39.9.59 1.41.59.51 0 1.02-.2 1.41-.59l7.78-7.78 2.81-2.81c.8-.78.8-2.07 0-2.86zM5.41 20L4 18.59l7.72-7.72 1.47 1.35L5.41 20z\"/>\n",
              "  </svg>\n",
              "      </button>\n",
              "      \n",
              "  <style>\n",
              "    .colab-df-container {\n",
              "      display:flex;\n",
              "      flex-wrap:wrap;\n",
              "      gap: 12px;\n",
              "    }\n",
              "\n",
              "    .colab-df-convert {\n",
              "      background-color: #E8F0FE;\n",
              "      border: none;\n",
              "      border-radius: 50%;\n",
              "      cursor: pointer;\n",
              "      display: none;\n",
              "      fill: #1967D2;\n",
              "      height: 32px;\n",
              "      padding: 0 0 0 0;\n",
              "      width: 32px;\n",
              "    }\n",
              "\n",
              "    .colab-df-convert:hover {\n",
              "      background-color: #E2EBFA;\n",
              "      box-shadow: 0px 1px 2px rgba(60, 64, 67, 0.3), 0px 1px 3px 1px rgba(60, 64, 67, 0.15);\n",
              "      fill: #174EA6;\n",
              "    }\n",
              "\n",
              "    [theme=dark] .colab-df-convert {\n",
              "      background-color: #3B4455;\n",
              "      fill: #D2E3FC;\n",
              "    }\n",
              "\n",
              "    [theme=dark] .colab-df-convert:hover {\n",
              "      background-color: #434B5C;\n",
              "      box-shadow: 0px 1px 3px 1px rgba(0, 0, 0, 0.15);\n",
              "      filter: drop-shadow(0px 1px 2px rgba(0, 0, 0, 0.3));\n",
              "      fill: #FFFFFF;\n",
              "    }\n",
              "  </style>\n",
              "\n",
              "      <script>\n",
              "        const buttonEl =\n",
              "          document.querySelector('#df-6b3a97a9-97f5-4297-a842-2dd7641da9df button.colab-df-convert');\n",
              "        buttonEl.style.display =\n",
              "          google.colab.kernel.accessAllowed ? 'block' : 'none';\n",
              "\n",
              "        async function convertToInteractive(key) {\n",
              "          const element = document.querySelector('#df-6b3a97a9-97f5-4297-a842-2dd7641da9df');\n",
              "          const dataTable =\n",
              "            await google.colab.kernel.invokeFunction('convertToInteractive',\n",
              "                                                     [key], {});\n",
              "          if (!dataTable) return;\n",
              "\n",
              "          const docLinkHtml = 'Like what you see? Visit the ' +\n",
              "            '<a target=\"_blank\" href=https://colab.research.google.com/notebooks/data_table.ipynb>data table notebook</a>'\n",
              "            + ' to learn more about interactive tables.';\n",
              "          element.innerHTML = '';\n",
              "          dataTable['output_type'] = 'display_data';\n",
              "          await google.colab.output.renderOutput(dataTable, element);\n",
              "          const docLink = document.createElement('div');\n",
              "          docLink.innerHTML = docLinkHtml;\n",
              "          element.appendChild(docLink);\n",
              "        }\n",
              "      </script>\n",
              "    </div>\n",
              "  </div>\n",
              "  "
            ]
          },
          "metadata": {},
          "execution_count": 7
        }
      ]
    },
    {
      "cell_type": "markdown",
      "source": [
        "A função ZIP reune os valores das colunas criadas e agrupa em uma nova coluna que nomeamos \"todas_as_tags\""
      ],
      "metadata": {
        "id": "3i83mV1fv_qq"
      }
    },
    {
      "cell_type": "code",
      "source": [
        "lista_tgs_zip = list(\n",
        "    zip(dados['node.js'], dados['jquery'], dados['html'], dados['angular'])\n",
        "    )\n",
        "dados['todas_as_tags'] = lista_tgs_zip"
      ],
      "metadata": {
        "id": "BLWEhEFPqXGR"
      },
      "execution_count": 8,
      "outputs": []
    },
    {
      "cell_type": "code",
      "source": [
        "dados.head()"
      ],
      "metadata": {
        "colab": {
          "base_uri": "https://localhost:8080/",
          "height": 0
        },
        "id": "9beox4u3q4PL",
        "outputId": "04604940-f515-4478-d934-d5187288a9cc"
      },
      "execution_count": 9,
      "outputs": [
        {
          "output_type": "execute_result",
          "data": {
            "text/plain": [
              "                                           Perguntas           Tags  node.js  \\\n",
              "0  Possuo um projeto Node.js porém preciso criar ...        node.js        1   \n",
              "1  Gostaria de fazer testes unitários no Node.js,...        node.js        1   \n",
              "2  Como inverter a ordem com que o jQuery itera u...         jquery        0   \n",
              "3  Eu tenho uma página onde pretendo utilizar um ...           html        0   \n",
              "4  Como exibir os dados retornados do FireStore e...  html angular         0   \n",
              "\n",
              "   jquery  html  angular todas_as_tags  \n",
              "0       0     0        0  (1, 0, 0, 0)  \n",
              "1       0     0        0  (1, 0, 0, 0)  \n",
              "2       1     0        0  (0, 1, 0, 0)  \n",
              "3       0     1        0  (0, 0, 1, 0)  \n",
              "4       0     1        1  (0, 0, 1, 1)  "
            ],
            "text/html": [
              "\n",
              "  <div id=\"df-ee9c68fd-13ed-4f24-a1d3-33861444282a\">\n",
              "    <div class=\"colab-df-container\">\n",
              "      <div>\n",
              "<style scoped>\n",
              "    .dataframe tbody tr th:only-of-type {\n",
              "        vertical-align: middle;\n",
              "    }\n",
              "\n",
              "    .dataframe tbody tr th {\n",
              "        vertical-align: top;\n",
              "    }\n",
              "\n",
              "    .dataframe thead th {\n",
              "        text-align: right;\n",
              "    }\n",
              "</style>\n",
              "<table border=\"1\" class=\"dataframe\">\n",
              "  <thead>\n",
              "    <tr style=\"text-align: right;\">\n",
              "      <th></th>\n",
              "      <th>Perguntas</th>\n",
              "      <th>Tags</th>\n",
              "      <th>node.js</th>\n",
              "      <th>jquery</th>\n",
              "      <th>html</th>\n",
              "      <th>angular</th>\n",
              "      <th>todas_as_tags</th>\n",
              "    </tr>\n",
              "  </thead>\n",
              "  <tbody>\n",
              "    <tr>\n",
              "      <th>0</th>\n",
              "      <td>Possuo um projeto Node.js porém preciso criar ...</td>\n",
              "      <td>node.js</td>\n",
              "      <td>1</td>\n",
              "      <td>0</td>\n",
              "      <td>0</td>\n",
              "      <td>0</td>\n",
              "      <td>(1, 0, 0, 0)</td>\n",
              "    </tr>\n",
              "    <tr>\n",
              "      <th>1</th>\n",
              "      <td>Gostaria de fazer testes unitários no Node.js,...</td>\n",
              "      <td>node.js</td>\n",
              "      <td>1</td>\n",
              "      <td>0</td>\n",
              "      <td>0</td>\n",
              "      <td>0</td>\n",
              "      <td>(1, 0, 0, 0)</td>\n",
              "    </tr>\n",
              "    <tr>\n",
              "      <th>2</th>\n",
              "      <td>Como inverter a ordem com que o jQuery itera u...</td>\n",
              "      <td>jquery</td>\n",
              "      <td>0</td>\n",
              "      <td>1</td>\n",
              "      <td>0</td>\n",
              "      <td>0</td>\n",
              "      <td>(0, 1, 0, 0)</td>\n",
              "    </tr>\n",
              "    <tr>\n",
              "      <th>3</th>\n",
              "      <td>Eu tenho uma página onde pretendo utilizar um ...</td>\n",
              "      <td>html</td>\n",
              "      <td>0</td>\n",
              "      <td>0</td>\n",
              "      <td>1</td>\n",
              "      <td>0</td>\n",
              "      <td>(0, 0, 1, 0)</td>\n",
              "    </tr>\n",
              "    <tr>\n",
              "      <th>4</th>\n",
              "      <td>Como exibir os dados retornados do FireStore e...</td>\n",
              "      <td>html angular</td>\n",
              "      <td>0</td>\n",
              "      <td>0</td>\n",
              "      <td>1</td>\n",
              "      <td>1</td>\n",
              "      <td>(0, 0, 1, 1)</td>\n",
              "    </tr>\n",
              "  </tbody>\n",
              "</table>\n",
              "</div>\n",
              "      <button class=\"colab-df-convert\" onclick=\"convertToInteractive('df-ee9c68fd-13ed-4f24-a1d3-33861444282a')\"\n",
              "              title=\"Convert this dataframe to an interactive table.\"\n",
              "              style=\"display:none;\">\n",
              "        \n",
              "  <svg xmlns=\"http://www.w3.org/2000/svg\" height=\"24px\"viewBox=\"0 0 24 24\"\n",
              "       width=\"24px\">\n",
              "    <path d=\"M0 0h24v24H0V0z\" fill=\"none\"/>\n",
              "    <path d=\"M18.56 5.44l.94 2.06.94-2.06 2.06-.94-2.06-.94-.94-2.06-.94 2.06-2.06.94zm-11 1L8.5 8.5l.94-2.06 2.06-.94-2.06-.94L8.5 2.5l-.94 2.06-2.06.94zm10 10l.94 2.06.94-2.06 2.06-.94-2.06-.94-.94-2.06-.94 2.06-2.06.94z\"/><path d=\"M17.41 7.96l-1.37-1.37c-.4-.4-.92-.59-1.43-.59-.52 0-1.04.2-1.43.59L10.3 9.45l-7.72 7.72c-.78.78-.78 2.05 0 2.83L4 21.41c.39.39.9.59 1.41.59.51 0 1.02-.2 1.41-.59l7.78-7.78 2.81-2.81c.8-.78.8-2.07 0-2.86zM5.41 20L4 18.59l7.72-7.72 1.47 1.35L5.41 20z\"/>\n",
              "  </svg>\n",
              "      </button>\n",
              "      \n",
              "  <style>\n",
              "    .colab-df-container {\n",
              "      display:flex;\n",
              "      flex-wrap:wrap;\n",
              "      gap: 12px;\n",
              "    }\n",
              "\n",
              "    .colab-df-convert {\n",
              "      background-color: #E8F0FE;\n",
              "      border: none;\n",
              "      border-radius: 50%;\n",
              "      cursor: pointer;\n",
              "      display: none;\n",
              "      fill: #1967D2;\n",
              "      height: 32px;\n",
              "      padding: 0 0 0 0;\n",
              "      width: 32px;\n",
              "    }\n",
              "\n",
              "    .colab-df-convert:hover {\n",
              "      background-color: #E2EBFA;\n",
              "      box-shadow: 0px 1px 2px rgba(60, 64, 67, 0.3), 0px 1px 3px 1px rgba(60, 64, 67, 0.15);\n",
              "      fill: #174EA6;\n",
              "    }\n",
              "\n",
              "    [theme=dark] .colab-df-convert {\n",
              "      background-color: #3B4455;\n",
              "      fill: #D2E3FC;\n",
              "    }\n",
              "\n",
              "    [theme=dark] .colab-df-convert:hover {\n",
              "      background-color: #434B5C;\n",
              "      box-shadow: 0px 1px 3px 1px rgba(0, 0, 0, 0.15);\n",
              "      filter: drop-shadow(0px 1px 2px rgba(0, 0, 0, 0.3));\n",
              "      fill: #FFFFFF;\n",
              "    }\n",
              "  </style>\n",
              "\n",
              "      <script>\n",
              "        const buttonEl =\n",
              "          document.querySelector('#df-ee9c68fd-13ed-4f24-a1d3-33861444282a button.colab-df-convert');\n",
              "        buttonEl.style.display =\n",
              "          google.colab.kernel.accessAllowed ? 'block' : 'none';\n",
              "\n",
              "        async function convertToInteractive(key) {\n",
              "          const element = document.querySelector('#df-ee9c68fd-13ed-4f24-a1d3-33861444282a');\n",
              "          const dataTable =\n",
              "            await google.colab.kernel.invokeFunction('convertToInteractive',\n",
              "                                                     [key], {});\n",
              "          if (!dataTable) return;\n",
              "\n",
              "          const docLinkHtml = 'Like what you see? Visit the ' +\n",
              "            '<a target=\"_blank\" href=https://colab.research.google.com/notebooks/data_table.ipynb>data table notebook</a>'\n",
              "            + ' to learn more about interactive tables.';\n",
              "          element.innerHTML = '';\n",
              "          dataTable['output_type'] = 'display_data';\n",
              "          await google.colab.output.renderOutput(dataTable, element);\n",
              "          const docLink = document.createElement('div');\n",
              "          docLink.innerHTML = docLinkHtml;\n",
              "          element.appendChild(docLink);\n",
              "        }\n",
              "      </script>\n",
              "    </div>\n",
              "  </div>\n",
              "  "
            ]
          },
          "metadata": {},
          "execution_count": 9
        }
      ]
    },
    {
      "cell_type": "markdown",
      "source": [
        "### TfidfVectorizer"
      ],
      "metadata": {
        "id": "AW1ylDyZwXd2"
      }
    },
    {
      "cell_type": "markdown",
      "source": [
        "**A função TfidfVectorizer do sklearn** é utilizada para transformar um conjunto de documentos de texto em uma matriz numérica, representando a importância relativa de cada palavra nos documentos. O nome \"Tfidf\" vem da abreviação de \"Term Frequency-Inverse Document Frequency\", que é uma medida estatística comumente usada em NLP.\n",
        "\n",
        "A função TfidfVectorizer combina os processos de tokenização, contagem de frequência de termos e aplicação da fórmula Tfidf em uma única etapa. Ela atribui um valor numérico a cada palavra com base em sua frequência no documento e sua relevância em relação a outros documentos do conjunto.\n",
        "\n",
        "Essa técnica é útil em problemas de aprendizado de máquina em que a representação textual é necessária, como classificação de documentos, agrupamento de textos, recomendação de conteúdo, análise de sentimentos, entre outros. A matriz resultante do TfidfVectorizer é uma representação numérica que pode ser usada como entrada para algoritmos de aprendizado de máquina, permitindo que eles trabalhem com texto de maneira eficiente."
      ],
      "metadata": {
        "id": "NCiOL81RwwAc"
      }
    },
    {
      "cell_type": "code",
      "source": [
        "from sklearn.feature_extraction.text import TfidfVectorizer\n",
        "from sklearn.model_selection import train_test_split"
      ],
      "metadata": {
        "id": "ygNPk_uggGxX"
      },
      "execution_count": 10,
      "outputs": []
    },
    {
      "cell_type": "markdown",
      "source": [
        "Separação em traino e teste"
      ],
      "metadata": {
        "id": "_5jcxfEAxQ9S"
      }
    },
    {
      "cell_type": "code",
      "source": [
        "perguntas_train, perguntas_test, tags_train, tags_test = train_test_split( \n",
        "    dados.Perguntas, dados.todas_as_tags, test_size=0.30, random_state=427 )"
      ],
      "metadata": {
        "id": "3zCE6Ze8hz9q"
      },
      "execution_count": 11,
      "outputs": []
    },
    {
      "cell_type": "code",
      "source": [
        "vetorizar = TfidfVectorizer(max_features=5000, max_df=0.85)\n",
        "vetorizar.fit(dados.Perguntas)\n",
        "perguntas_train_tfidf = vetorizar.transform(perguntas_train)\n",
        "perguntas_test_tfidf = vetorizar.transform(perguntas_test)"
      ],
      "metadata": {
        "id": "TBC_lVMXCRfl"
      },
      "execution_count": 12,
      "outputs": []
    },
    {
      "cell_type": "code",
      "source": [
        "print(perguntas_train_tfidf.shape)\n",
        "print(perguntas_test_tfidf.shape)"
      ],
      "metadata": {
        "colab": {
          "base_uri": "https://localhost:8080/"
        },
        "id": "YiTgbQspEJjK",
        "outputId": "dcc56c63-577b-4717-df25-2e3736a124f8"
      },
      "execution_count": 13,
      "outputs": [
        {
          "output_type": "stream",
          "name": "stdout",
          "text": [
            "(3785, 5000)\n",
            "(1623, 5000)\n"
          ]
        }
      ]
    },
    {
      "cell_type": "markdown",
      "source": [
        "### OneVsRestClassifier"
      ],
      "metadata": {
        "id": "XiZ8bu_mky_r"
      }
    },
    {
      "cell_type": "markdown",
      "source": [
        "A função OneVsRestClassifier do sklearn é utilizada para lidar com problemas de classificação multiclasse através da estratégia \"One-vs-Rest\" (um-contra-todos). Essa estratégia é aplicada quando temos um problema de classificação com mais de duas classes.\n",
        "\n",
        "A ideia por trás do OneVsRestClassifier é treinar um classificador binário para cada classe do problema, onde cada classificador é responsável por distinguir uma classe específica das demais. Durante o treinamento, as amostras correspondentes à classe em questão são consideradas como positivas, enquanto as amostras das outras classes são consideradas como negativas.\n",
        "\n",
        "Quando é necessário fazer uma previsão para uma nova amostra, todos os classificadores binários são utilizados e a classe com a maior probabilidade de pertencer a ela é selecionada como a classe final da amostra.\n",
        "\n",
        "Essa abordagem é especialmente útil quando o conjunto de dados é desbalanceado, ou seja, quando algumas classes têm um número muito maior de amostras do que outras. O OneVsRestClassifier permite lidar com esse desequilíbrio, treinando um classificador para cada classe independentemente, o que pode levar a melhores resultados em comparação com abordagens de classificação direta."
      ],
      "metadata": {
        "id": "BFnc9w12yLW0"
      }
    },
    {
      "cell_type": "code",
      "source": [
        "from sklearn.multiclass import OneVsRestClassifier\n",
        "from sklearn.linear_model import LogisticRegression"
      ],
      "metadata": {
        "id": "GbEBeNOIEMif"
      },
      "execution_count": 14,
      "outputs": []
    },
    {
      "cell_type": "code",
      "source": [
        "regressao_logistica = LogisticRegression() \n",
        "classificador = OneVsRestClassifier(regressao_logistica) \n",
        "\n",
        "# para que funcione corretamente essa técnica exige um algoritmo de classificação como parâmetro."
      ],
      "metadata": {
        "id": "uMy7Rcn5FnTa"
      },
      "execution_count": 15,
      "outputs": []
    },
    {
      "cell_type": "code",
      "source": [
        "tags_train_array = np.asarray(list(tags_train))\n",
        "tags_test_array = np.asarray(list(tags_test))\n",
        "\n",
        "# o formato deve ser alterado de \"data series para array\". A função list remove as tuplas e mantém um array de listas."
      ],
      "metadata": {
        "id": "cq9sMDmDGyak"
      },
      "execution_count": 16,
      "outputs": []
    },
    {
      "cell_type": "code",
      "source": [
        "classificador.fit(perguntas_train_tfidf, tags_train_array)\n",
        "resultado = classificador.score(perguntas_test_tfidf, tags_test_array)\n",
        "print('Acurácia: {0:.2f}%'.format(resultado * 100))"
      ],
      "metadata": {
        "colab": {
          "base_uri": "https://localhost:8080/"
        },
        "id": "LXoImjH2GpD6",
        "outputId": "fd0ebb56-dd38-4a76-d7df-82b62db823b5"
      },
      "execution_count": 17,
      "outputs": [
        {
          "output_type": "stream",
          "name": "stdout",
          "text": [
            "Acurácia: 38.88%\n"
          ]
        }
      ]
    },
    {
      "cell_type": "markdown",
      "source": [
        "Uma breve comparação de resultados: são 13 tags possíveis entre as combinações, se déssemos 1 palpite a chance de acerto é de 7,69 %. O algoritmo acerta em 38,88% dos casos."
      ],
      "metadata": {
        "id": "ToZPKWo3zM1o"
      }
    },
    {
      "cell_type": "code",
      "source": [
        "dados.todas_as_tags.unique()"
      ],
      "metadata": {
        "colab": {
          "base_uri": "https://localhost:8080/"
        },
        "id": "dahgzZNoz3i8",
        "outputId": "05fce295-f47b-42f9-8485-f8a5925bf19d"
      },
      "execution_count": 18,
      "outputs": [
        {
          "output_type": "execute_result",
          "data": {
            "text/plain": [
              "array([(1, 0, 0, 0), (0, 1, 0, 0), (0, 0, 1, 0), (0, 0, 1, 1),\n",
              "       (0, 0, 0, 1), (0, 1, 1, 0), (1, 0, 0, 1), (0, 1, 1, 1),\n",
              "       (0, 1, 0, 1), (1, 0, 1, 0), (1, 1, 0, 0), (1, 0, 1, 1),\n",
              "       (1, 1, 1, 0)], dtype=object)"
            ]
          },
          "metadata": {},
          "execution_count": 18
        }
      ]
    },
    {
      "cell_type": "code",
      "source": [
        "len(dados.todas_as_tags.unique())"
      ],
      "metadata": {
        "colab": {
          "base_uri": "https://localhost:8080/"
        },
        "id": "yq_MuWOhL4Kv",
        "outputId": "dde0447b-45d2-46e9-84e5-aa20da34fad1"
      },
      "execution_count": 19,
      "outputs": [
        {
          "output_type": "execute_result",
          "data": {
            "text/plain": [
              "13"
            ]
          },
          "metadata": {},
          "execution_count": 19
        }
      ]
    },
    {
      "cell_type": "code",
      "source": [
        "palpite = 1/13\n",
        "print(f' {round(palpite * 100, 2)}% ')"
      ],
      "metadata": {
        "colab": {
          "base_uri": "https://localhost:8080/"
        },
        "id": "MO14I0XcL-MR",
        "outputId": "90f92f6b-ff96-4d24-dc18-3daff6928d32"
      },
      "execution_count": 20,
      "outputs": [
        {
          "output_type": "stream",
          "name": "stdout",
          "text": [
            " 7.69% \n"
          ]
        }
      ]
    },
    {
      "cell_type": "markdown",
      "source": [
        "**A métrica hamming_loss do sklearn** é uma medida de desempenho utilizada para avaliar a qualidade de modelos de classificação multilabel. Essa métrica calcula a fração média de rótulos incorretamente previstos para uma amostra de dados.\n",
        "\n",
        "A hamming_loss compara os rótulos previstos pelo modelo com os rótulos verdadeiros das amostras de teste. Para cada amostra, a métrica verifica se todos os rótulos previstos correspondem aos rótulos verdadeiros. Se houver pelo menos uma discrepância, a amostra é considerada incorretamente classificada.\n",
        "\n",
        "A hamming_loss retorna um valor entre 0 e 1, onde um valor mais próximo de 0 indica um melhor desempenho do modelo, pois representa uma menor taxa de erro na predição dos rótulos. Um valor de 1 indica que todas as amostras foram classificadas incorretamente.\n",
        "\n",
        "Essa métrica é especialmente útil quando se lida com problemas de classificação multilabel, nos quais uma amostra pode ser associada a múltiplas classes simultaneamente. A hamming_loss permite avaliar a capacidade do modelo em prever corretamente todas as classes relevantes para uma amostra, considerando a sobreposição e interseção dos rótulos."
      ],
      "metadata": {
        "id": "gcD1MPpl1HFR"
      }
    },
    {
      "cell_type": "code",
      "source": [
        "from sklearn.metrics import hamming_loss"
      ],
      "metadata": {
        "id": "FUVxfZOnL_2z"
      },
      "execution_count": 21,
      "outputs": []
    },
    {
      "cell_type": "code",
      "source": [
        "previsao_classificador = classificador.predict(perguntas_test_tfidf)\n",
        "hamming_loss_onevsrest = hamming_loss(tags_test_array, previsao_classificador)\n",
        "print('hamming_loss: {0:.2f}'.format(hamming_loss_onevsrest))"
      ],
      "metadata": {
        "colab": {
          "base_uri": "https://localhost:8080/"
        },
        "id": "4SGsKacxOTYk",
        "outputId": "917ed4a1-d020-4fd0-efdc-04b5265b6d99"
      },
      "execution_count": 22,
      "outputs": [
        {
          "output_type": "stream",
          "name": "stdout",
          "text": [
            "hamming_loss: 0.20\n"
          ]
        }
      ]
    },
    {
      "cell_type": "markdown",
      "source": [
        "### BinaryRelevance"
      ],
      "metadata": {
        "id": "wlOevB2bm_Y6"
      }
    },
    {
      "cell_type": "markdown",
      "source": [
        "**A função BinaryRelevance do skmultilearn** é uma abordagem para lidar com problemas de classificação multilabel, nos quais cada amostra pode pertencer a várias classes simultaneamente. Essa função permite transformar o problema multilabel em vários problemas de classificação binária independentes.\n",
        "\n",
        "Em vez de tentar prever diretamente todos os rótulos para uma amostra, a abordagem BinaryRelevance cria um classificador binário separado para cada rótulo. Cada classificador binário é treinado para prever a presença ou ausência de um rótulo específico, sem levar em consideração os outros rótulos.\n",
        "\n",
        "Durante a etapa de treinamento, a função BinaryRelevance ajusta cada classificador binário aos dados de treinamento, criando um conjunto de modelos independentes. Durante a etapa de predição, os modelos são aplicados separadamente a cada amostra para determinar a presença ou ausência de cada rótulo.\n",
        "\n",
        "A função BinaryRelevance é útil quando se deseja utilizar algoritmos de classificação binária existentes para lidar com problemas multilabel. Ela permite que esses algoritmos sejam aplicados de forma independente para cada rótulo, sem considerar a correlação entre eles."
      ],
      "metadata": {
        "id": "LszMKkM814hB"
      }
    },
    {
      "cell_type": "code",
      "source": [
        "!pip install scikit-multilearn"
      ],
      "metadata": {
        "colab": {
          "base_uri": "https://localhost:8080/"
        },
        "id": "Rip40r3PiLLm",
        "outputId": "e2685066-6586-443d-beeb-a85b5e339424"
      },
      "execution_count": 24,
      "outputs": [
        {
          "output_type": "stream",
          "name": "stdout",
          "text": [
            "Looking in indexes: https://pypi.org/simple, https://us-python.pkg.dev/colab-wheels/public/simple/\n",
            "Collecting scikit-multilearn\n",
            "  Downloading scikit_multilearn-0.2.0-py3-none-any.whl (89 kB)\n",
            "\u001b[2K     \u001b[90m━━━━━━━━━━━━━━━━━━━━━━━━━━━━━━━━━━━━━━━━\u001b[0m \u001b[32m89.4/89.4 kB\u001b[0m \u001b[31m5.3 MB/s\u001b[0m eta \u001b[36m0:00:00\u001b[0m\n",
            "\u001b[?25hInstalling collected packages: scikit-multilearn\n",
            "Successfully installed scikit-multilearn-0.2.0\n"
          ]
        }
      ]
    },
    {
      "cell_type": "code",
      "source": [
        "from skmultilearn.problem_transform import BinaryRelevance"
      ],
      "metadata": {
        "id": "KyPwyYstmTvo"
      },
      "execution_count": 25,
      "outputs": []
    },
    {
      "cell_type": "code",
      "source": [
        "classificador_multi_br = BinaryRelevance(regressao_logistica)\n",
        "classificador_multi_br.fit(perguntas_train_tfidf, tags_train_array)\n",
        "resultado = classificador_multi_br.score(perguntas_test_tfidf, tags_test_array)\n",
        "print('Acurácia: {0:.2f}%'.format(resultado * 100))"
      ],
      "metadata": {
        "colab": {
          "base_uri": "https://localhost:8080/"
        },
        "id": "WSBdMBimmc53",
        "outputId": "22cf28fb-81a0-4b5a-f8d6-ed8bfb515c34"
      },
      "execution_count": 26,
      "outputs": [
        {
          "output_type": "stream",
          "name": "stdout",
          "text": [
            "Acurácia: 38.88%\n"
          ]
        }
      ]
    },
    {
      "cell_type": "code",
      "source": [
        "previsao_classificador = classificador_multi_br.predict(perguntas_test_tfidf)\n",
        "hamming_loss_multi_br = hamming_loss(tags_test_array, previsao_classificador)\n",
        "print('hamming_loss: {0:.2f}'.format(hamming_loss_multi_br))"
      ],
      "metadata": {
        "colab": {
          "base_uri": "https://localhost:8080/"
        },
        "id": "IQJb6dVWmemd",
        "outputId": "82a7c3fd-e1f9-4c8c-aba6-6173cdd7be8d"
      },
      "execution_count": 27,
      "outputs": [
        {
          "output_type": "stream",
          "name": "stdout",
          "text": [
            "hamming_loss: 0.20\n"
          ]
        }
      ]
    },
    {
      "cell_type": "markdown",
      "source": [
        "### ClassifierChain"
      ],
      "metadata": {
        "id": "weAYT3T7kjGn"
      }
    },
    {
      "cell_type": "markdown",
      "source": [
        "**A função ClassifierChain do skmultilearn** é outra abordagem para lidar com problemas de classificação multilabel. Assim como a BinaryRelevance, ela também transforma o problema multilabel em uma série de problemas de classificação binária.\n",
        "\n",
        "A diferença principal é que a ClassifierChain leva em consideração a dependência entre os rótulos ao criar a sequência de classificadores. Cada classificador é treinado para prever a presença ou ausência de um rótulo específico, levando em conta as informações dos rótulos anteriores na sequência.\n",
        "\n",
        "Durante a etapa de treinamento, a função ClassifierChain ajusta cada classificador binário aos dados de treinamento, considerando a presença dos rótulos anteriores na sequência. Isso permite que cada classificador aprenda a partir das informações dos rótulos anteriores, capturando a dependência entre eles.\n",
        "\n",
        "Durante a etapa de predição, os modelos são aplicados em sequência para cada amostra. O resultado da predição de um classificador é utilizado como entrada para o próximo classificador na sequência, levando em conta a dependência entre os rótulos.\n",
        "\n",
        "A abordagem ClassifierChain é útil quando há uma forte dependência entre os rótulos e é importante capturar essa dependência para obter um melhor desempenho na classificação multilabel. No entanto, ela pode ser mais computacionalmente intensiva do que a BinaryRelevance, uma vez que cada classificador na sequência depende das predições dos classificadores anteriores."
      ],
      "metadata": {
        "id": "HOx0LaTR2nIq"
      }
    },
    {
      "cell_type": "code",
      "source": [
        "from skmultilearn.problem_transform import ClassifierChain"
      ],
      "metadata": {
        "id": "5Eil0Hiuip9p"
      },
      "execution_count": 28,
      "outputs": []
    },
    {
      "cell_type": "code",
      "source": [
        "classificador_multi = ClassifierChain(regressao_logistica)\n",
        "classificador_multi.fit(perguntas_train_tfidf, tags_train_array)\n",
        "resultado = classificador_multi.score(perguntas_test_tfidf, tags_test_array)\n",
        "print('Acurácia: {0:.2f}%'.format(resultado * 100))"
      ],
      "metadata": {
        "colab": {
          "base_uri": "https://localhost:8080/"
        },
        "id": "DeI10wcWjkJC",
        "outputId": "bbf0750e-8c39-4fd1-c84d-f5d1fcd13356"
      },
      "execution_count": 29,
      "outputs": [
        {
          "output_type": "stream",
          "name": "stdout",
          "text": [
            "Acurácia: 48.37%\n"
          ]
        }
      ]
    },
    {
      "cell_type": "code",
      "source": [
        "previsao_classificador = classificador_multi.predict(perguntas_test_tfidf)\n",
        "hamming_loss_multi = hamming_loss(tags_test_array, previsao_classificador)\n",
        "print('hamming_loss: {0:.2f}'.format(hamming_loss_multi))"
      ],
      "metadata": {
        "colab": {
          "base_uri": "https://localhost:8080/"
        },
        "id": "9jttWC3djcrt",
        "outputId": "da7478c7-13fc-4812-bf43-fe59ced95468"
      },
      "execution_count": 30,
      "outputs": [
        {
          "output_type": "stream",
          "name": "stdout",
          "text": [
            "hamming_loss: 0.22\n"
          ]
        }
      ]
    }
  ]
}