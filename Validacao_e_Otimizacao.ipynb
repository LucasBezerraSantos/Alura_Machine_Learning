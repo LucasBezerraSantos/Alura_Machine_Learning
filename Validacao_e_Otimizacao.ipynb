{
  "nbformat": 4,
  "nbformat_minor": 0,
  "metadata": {
    "colab": {
      "provenance": [],
      "authorship_tag": "ABX9TyONO44Fh4PcTQEQsXQgSAZk",
      "include_colab_link": true
    },
    "kernelspec": {
      "name": "python3",
      "display_name": "Python 3"
    },
    "language_info": {
      "name": "python"
    }
  },
  "cells": [
    {
      "cell_type": "markdown",
      "metadata": {
        "id": "view-in-github",
        "colab_type": "text"
      },
      "source": [
        "<a href=\"https://colab.research.google.com/github/LucasBezerraSantos/Alura_Machine_Learning/blob/master/Validacao_e_Otimizacao.ipynb\" target=\"_parent\"><img src=\"https://colab.research.google.com/assets/colab-badge.svg\" alt=\"Open In Colab\"/></a>"
      ]
    },
    {
      "cell_type": "markdown",
      "source": [
        "Este notebook tem como objetivo avaliar e testar técnicas de otimização de resultados."
      ],
      "metadata": {
        "id": "4RvLaY6lhhQA"
      }
    },
    {
      "cell_type": "markdown",
      "source": [
        "## Bibliotecas e Pré-processamento"
      ],
      "metadata": {
        "id": "J6cxmGhlhUnH"
      }
    },
    {
      "cell_type": "code",
      "source": [
        "import pandas as pd\n",
        "import numpy as np"
      ],
      "metadata": {
        "id": "s4MlhZDJci8L"
      },
      "execution_count": 1,
      "outputs": []
    },
    {
      "cell_type": "code",
      "execution_count": 2,
      "metadata": {
        "id": "1A14g81G8Cf_"
      },
      "outputs": [],
      "source": [
        "uri = \"https://gist.githubusercontent.com/guilhermesilveira/e99a526b2e7ccc6c3b70f53db43a87d2/raw/1605fc74aa778066bf2e6695e24d53cf65f2f447/machine-learning-carros-simulacao.csv\"\n",
        "\n",
        "dados = pd.read_csv(uri).drop(columns=[\"Unnamed: 0\"], axis=1)"
      ]
    },
    {
      "cell_type": "code",
      "source": [
        "from sklearn.model_selection import train_test_split\n",
        "from sklearn.tree import DecisionTreeClassifier\n",
        "from sklearn.dummy import DummyClassifier\n",
        "from sklearn.metrics import accuracy_score"
      ],
      "metadata": {
        "id": "dzcHfHVVcfU7"
      },
      "execution_count": 3,
      "outputs": []
    },
    {
      "cell_type": "markdown",
      "source": [
        "Separação de dados"
      ],
      "metadata": {
        "id": "PfsqsjIIh281"
      }
    },
    {
      "cell_type": "code",
      "source": [
        "X = dados.drop('vendido', axis=1)\n",
        "y = dados['vendido']\n",
        "\n",
        "SEED = 14"
      ],
      "metadata": {
        "id": "Q5OkMxYBdWmf"
      },
      "execution_count": 4,
      "outputs": []
    },
    {
      "cell_type": "code",
      "source": [
        "dados.columns"
      ],
      "metadata": {
        "colab": {
          "base_uri": "https://localhost:8080/"
        },
        "id": "xRUyyLYBhkCU",
        "outputId": "b8220aa7-8314-430d-e292-027e26da992b"
      },
      "execution_count": 5,
      "outputs": [
        {
          "output_type": "execute_result",
          "data": {
            "text/plain": [
              "Index(['preco', 'vendido', 'idade_do_modelo', 'km_por_ano'], dtype='object')"
            ]
          },
          "metadata": {},
          "execution_count": 5
        }
      ]
    },
    {
      "cell_type": "markdown",
      "source": [
        "Instanciando o Modelo"
      ],
      "metadata": {
        "id": "igEr04wQhzOO"
      }
    },
    {
      "cell_type": "code",
      "source": [
        "X_train, X_test, y_train, y_test = train_test_split( X, y, test_size=0.25, random_state= SEED, stratify= y )\n",
        "\n",
        "modelo = DecisionTreeClassifier(max_depth=2)\n",
        "modelo.fit(X_train, y_train)\n",
        "previsoes = modelo.predict(X_test)\n",
        "\n",
        "acuracia = accuracy_score(y_test, previsoes) * 100\n",
        "print(\"A acurácia foi %.2f%%\" % acuracia)"
      ],
      "metadata": {
        "colab": {
          "base_uri": "https://localhost:8080/"
        },
        "id": "4nSdT74fdFka",
        "outputId": "d71ebd23-9148-4cd0-820e-f86b9d8a52cb"
      },
      "execution_count": 6,
      "outputs": [
        {
          "output_type": "stream",
          "name": "stdout",
          "text": [
            "A acurácia foi 76.60%\n"
          ]
        }
      ]
    },
    {
      "cell_type": "code",
      "source": [
        "dummy = DummyClassifier()\n",
        "dummy.fit(X_train, y_train)\n",
        "acuracia = dummy.score(X_test, y_test) * 100\n",
        "\n",
        "print(\"A acurácia foi %.2f%%\" % acuracia)"
      ],
      "metadata": {
        "colab": {
          "base_uri": "https://localhost:8080/"
        },
        "id": "hQ5F6fOPf32J",
        "outputId": "88f4d345-1c3e-415e-c9bf-8e68a27cac28"
      },
      "execution_count": 7,
      "outputs": [
        {
          "output_type": "stream",
          "name": "stdout",
          "text": [
            "A acurácia foi 58.00%\n"
          ]
        }
      ]
    },
    {
      "cell_type": "markdown",
      "source": [
        "OBS. Por mais que a métrica tenha sido aparentemente positiva, o fator da aleatoriedade pode atrapalhar a precisão e aplicação dos resultados em um caso real, pois se fosse retirado o SEED do random_state, uma nova separação de treino e teste poderia retornar valores melhor ou piores do que o obtido no exemplo acima. Por esse motivo, o mais adequado é testar o modelo com diferentes separações e definir um intervalo de confiança para avaliar a métrica"
      ],
      "metadata": {
        "id": "LlI0a9rZh_9L"
      }
    },
    {
      "cell_type": "markdown",
      "source": [
        "## Cross-Validate"
      ],
      "metadata": {
        "id": "rGiLY4cQkRP_"
      }
    },
    {
      "cell_type": "markdown",
      "source": [
        "O Cross-Validation (validação cruzada) é uma técnica usada para avaliar a performance de um modelo de Machine Learning em dados não vistos. Em outras palavras, o objetivo é verificar se o modelo está aprendendo padrões gerais que podem ser aplicados a novos dados ou se está superajustando (overfitting) aos dados de treinamento.\n",
        "\n",
        "O Cross-Validation é especialmente útil quando temos um conjunto de dados limitado, pois nos permite usar todo o conjunto de dados para treinamento e teste. Ele divide o conjunto de dados em partes menores, chamadas de folds, e em cada rodada, usa uma parte para teste e as outras para treinamento. Isso é repetido várias vezes, com cada fold sendo usado para teste em uma rodada diferente. Ao final, temos uma medida de desempenho geral do modelo, que pode ser usada para ajustar seus parâmetros e melhorar sua performance."
      ],
      "metadata": {
        "id": "1VclWkL2jOZ9"
      }
    },
    {
      "cell_type": "code",
      "source": [
        "from sklearn.model_selection import cross_validate"
      ],
      "metadata": {
        "id": "bf9eXEkSkd02"
      },
      "execution_count": 8,
      "outputs": []
    },
    {
      "cell_type": "code",
      "source": [
        "modelo = DecisionTreeClassifier(max_depth=2)\n",
        "resultados = cross_validate(modelo, X, y, cv= 5, return_train_score= False ) # cv= número de sepação nos dados\n",
        "resultados['test_score']"
      ],
      "metadata": {
        "colab": {
          "base_uri": "https://localhost:8080/"
        },
        "id": "-xQk0bOJkV03",
        "outputId": "3c8f93b7-6d03-4db3-cf1c-4e1b85188fea"
      },
      "execution_count": 9,
      "outputs": [
        {
          "output_type": "execute_result",
          "data": {
            "text/plain": [
              "array([0.756 , 0.7565, 0.7625, 0.7545, 0.7595])"
            ]
          },
          "metadata": {},
          "execution_count": 9
        }
      ]
    },
    {
      "cell_type": "markdown",
      "source": [
        "Esta função a seguir recebe os dados e calcula média e o intervalo de confiança com base em dois desvios padrões, e será usada com frequência no notebook"
      ],
      "metadata": {
        "id": "NFF9TAkxjdzr"
      }
    },
    {
      "cell_type": "code",
      "source": [
        "def imprime_resultados(resultados):\n",
        "  media = resultados['test_score'].mean()\n",
        "  desvio_padrao = resultados['test_score'].std()\n",
        "  \n",
        "  print('Média Acurácia %.2f' % (media * 100))\n",
        "  print('Intervalo de Acurácia [ %.2f, %.2f ]' % ((media - 2 * desvio_padrao) * 100, (media + 2 * desvio_padrao) * 100))"
      ],
      "metadata": {
        "id": "P-7T-DH_lTqS"
      },
      "execution_count": 10,
      "outputs": []
    },
    {
      "cell_type": "code",
      "source": [
        "imprime_resultados(resultados)"
      ],
      "metadata": {
        "colab": {
          "base_uri": "https://localhost:8080/"
        },
        "id": "e4-7hU_EtRMt",
        "outputId": "ed235680-139b-4e95-9ce2-e2873ca0cbae"
      },
      "execution_count": 11,
      "outputs": [
        {
          "output_type": "stream",
          "name": "stdout",
          "text": [
            "Média Acurácia 75.78\n",
            "Intervalo de Acurácia [ 75.21, 76.35 ]\n"
          ]
        }
      ]
    },
    {
      "cell_type": "markdown",
      "source": [
        "## Aleatoriedade no Cross-Validate"
      ],
      "metadata": {
        "id": "Ir3OoDPWqygW"
      }
    },
    {
      "cell_type": "markdown",
      "source": [
        "K-fold é uma técnica utilizada em conjunto com o cross validation para dividir um conjunto de dados em k conjuntos (ou folds) de tamanhos iguais ou aproximados. Em seguida, o modelo é treinado k vezes, em cada uma das vezes utilizando k-1 folds como conjunto de treinamento e 1 fold como conjunto de validação.\n",
        "\n",
        "A utilidade do K-fold é permitir que todos os dados sejam usados tanto para treinamento quanto para validação, evitando assim que um subconjunto específico de dados influencie demasiadamente a qualidade do modelo final.\n",
        "\n",
        "O cross validation, por sua vez, é uma técnica de avaliação de desempenho de modelos que consiste em dividir o conjunto de dados em conjuntos de treinamento e validação, para então avaliar o desempenho do modelo em relação aos dados de validação. O K-fold é uma variação dessa técnica, que utiliza a técnica de K-fold para gerar os conjuntos de treinamento e validação.\n",
        "\n",
        "Dessa forma, o uso de K-fold com cross validation é especialmente útil em problemas em que os dados são limitados e se deseja obter uma estimativa mais robusta do desempenho do modelo. Ao dividir o conjunto de dados em vários conjuntos de treinamento e validação, é possível obter uma avaliação mais precisa e evitar overfitting."
      ],
      "metadata": {
        "id": "LshwrDM0lR1-"
      }
    },
    {
      "cell_type": "markdown",
      "source": [
        "### Kfold"
      ],
      "metadata": {
        "id": "jngoYDyb3bav"
      }
    },
    {
      "cell_type": "code",
      "source": [
        "from sklearn.model_selection import KFold\n",
        "\n",
        "cv = KFold(n_splits = 10, shuffle=True)\n",
        "modelo = DecisionTreeClassifier(max_depth=2)\n",
        "resultados = cross_validate(modelo, X, y, cv = cv, return_train_score=False)\n",
        "imprime_resultados(resultados)"
      ],
      "metadata": {
        "colab": {
          "base_uri": "https://localhost:8080/"
        },
        "id": "ha0awGKtlYMP",
        "outputId": "4a1c6ac4-dc11-491e-9192-ade6b013d678"
      },
      "execution_count": 12,
      "outputs": [
        {
          "output_type": "stream",
          "name": "stdout",
          "text": [
            "Média Acurácia 75.76\n",
            "Intervalo de Acurácia [ 73.85, 77.67 ]\n"
          ]
        }
      ]
    },
    {
      "cell_type": "markdown",
      "source": [
        "### StratifiedKFold"
      ],
      "metadata": {
        "id": "PP8IJS2K3a3h"
      }
    },
    {
      "cell_type": "markdown",
      "source": [
        "O StratifiedKFold é uma variação do KFold que, ao contrário do KFold padrão que realiza a divisão dos dados em subconjuntos aleatórios, estratifica a divisão dos dados em subconjuntos de maneira que cada subconjunto possua uma distribuição similar das classes presentes nos dados originais. Em outras palavras, o StratifiedKFold preserva a proporção de amostras de cada classe presente nos dados originais em cada subconjunto criado durante a validação cruzada.\n",
        "\n",
        "A principal diferença entre o StratifiedKFold e o KFold é que o primeiro é mais apropriado para problemas de classificação, enquanto o segundo é mais adequado para problemas de regressão ou problemas em que as classes possuem uma distribuição uniforme. Em geral, sempre que se trabalha com um conjunto de dados desbalanceado, é recomendado o uso do StratifiedKFold para validação cruzada em modelos de classificação."
      ],
      "metadata": {
        "id": "nJdhyie_mDt8"
      }
    },
    {
      "cell_type": "code",
      "source": [
        "from sklearn.model_selection import StratifiedKFold\n",
        "\n",
        "cv = StratifiedKFold(n_splits = 10, shuffle=True)\n",
        "modelo = DecisionTreeClassifier(max_depth=2)\n",
        "resultados = cross_validate(modelo, X, y, cv = cv, return_train_score=False)\n",
        "imprime_resultados(resultados)"
      ],
      "metadata": {
        "colab": {
          "base_uri": "https://localhost:8080/"
        },
        "id": "Sj1gZSxU17xn",
        "outputId": "54c13670-1cca-4614-f910-6a95804e673f"
      },
      "execution_count": 13,
      "outputs": [
        {
          "output_type": "stream",
          "name": "stdout",
          "text": [
            "Média Acurácia 75.78\n",
            "Intervalo de Acurácia [ 73.59, 77.97 ]\n"
          ]
        }
      ]
    },
    {
      "cell_type": "markdown",
      "source": [
        "### Modelos de Veículos Aleatórios"
      ],
      "metadata": {
        "id": "PfBLMW867qK_"
      }
    },
    {
      "cell_type": "markdown",
      "source": [
        "Abaixo criamos grupos aleatórios para testar mais uma funcionalidade de otimização. No caso, são criados dados que representam os modelos dos veículos para que os dados sejam agrupados a partir deles."
      ],
      "metadata": {
        "id": "NLLMwG6DmTq1"
      }
    },
    {
      "cell_type": "code",
      "source": [
        "np.random.seed(SEED)\n",
        "dados['modelo'] = dados['idade_do_modelo'] + np.random.randint( -2, 3, size=10000 )\n",
        "dados.modelo = dados.modelo + abs(dados.modelo.min()) + 1"
      ],
      "metadata": {
        "id": "JIl5IjhQ7ua-"
      },
      "execution_count": 15,
      "outputs": []
    },
    {
      "cell_type": "code",
      "source": [
        "dados.modelo.unique() #modelos de carros em um exemplo hipotético"
      ],
      "metadata": {
        "colab": {
          "base_uri": "https://localhost:8080/"
        },
        "id": "Isr-DVII8sPv",
        "outputId": "e19da825-dc52-4384-b457-314e65c0b7dd"
      },
      "execution_count": 20,
      "outputs": [
        {
          "output_type": "execute_result",
          "data": {
            "text/plain": [
              "array([21, 20, 16,  4,  6, 15, 18, 10, 19, 17,  3,  9, 12, 11, 23,  5, 14,\n",
              "        7, 24, 13, 22,  8,  2,  1])"
            ]
          },
          "metadata": {},
          "execution_count": 20
        }
      ]
    },
    {
      "cell_type": "markdown",
      "source": [
        "### GroupKFold"
      ],
      "metadata": {
        "id": "TIMeV3EE_UbO"
      }
    },
    {
      "cell_type": "markdown",
      "source": [
        "O GroupKFold funciona de maneira semelhante ao KFold, mas ele usa informações sobre os grupos de cada amostra para garantir que todas as amostras de um mesmo grupo estejam no mesmo conjunto. O algoritmo divide os dados em K partes, como no KFold, mas as partes são definidas de modo a ter grupos inteiros em cada parte.\n",
        "\n",
        "Isso ajuda a evitar problemas comuns em que um modelo aprende características específicas de um grupo que não se aplicam a outros grupos, o que pode levar a um desempenho ruim em novos dados."
      ],
      "metadata": {
        "id": "kJtWqw0lngGv"
      }
    },
    {
      "cell_type": "code",
      "source": [
        "from sklearn.model_selection import GroupKFold\n",
        "\n",
        "cv = GroupKFold(n_splits = 10)\n",
        "modelo = DecisionTreeClassifier(max_depth=2)\n",
        "resultados = cross_validate(modelo, X, y, cv = cv, groups= dados.modelo, return_train_score=False) \n",
        "#groups= incluido no parâmetro para que os dados sejam separados de acordo com os grupos\n",
        "\n",
        "imprime_resultados(resultados)"
      ],
      "metadata": {
        "colab": {
          "base_uri": "https://localhost:8080/"
        },
        "id": "f4yeHIcU9wqg",
        "outputId": "ec2cbe0f-77d1-4544-e5c2-ffcd538eb638"
      },
      "execution_count": 21,
      "outputs": [
        {
          "output_type": "stream",
          "name": "stdout",
          "text": [
            "Média Acurácia 75.76\n",
            "Intervalo de Acurácia [ 71.30, 80.22 ]\n"
          ]
        }
      ]
    },
    {
      "cell_type": "markdown",
      "source": [
        "### Pipeline"
      ],
      "metadata": {
        "id": "BWQ3loCnCoyn"
      }
    },
    {
      "cell_type": "markdown",
      "source": [
        "Para testar com um novo modelo SVC, será utilizado o StandardScaler e o GroupKfold. Para otimizar o código será aplicada a função Pipeline que realizará a transformação do scaler e aplicará o modelo em cada grupo Kfold."
      ],
      "metadata": {
        "id": "RisOrp0MnpyQ"
      }
    },
    {
      "cell_type": "code",
      "source": [
        "from sklearn.svm import SVC\n",
        "from sklearn.pipeline import Pipeline\n",
        "from sklearn.preprocessing import StandardScaler\n",
        "\n",
        "np.random.seed(SEED)\n",
        "modelo = SVC()\n",
        "scaler = StandardScaler()\n",
        "\n",
        "pipeline = Pipeline([('transformação', scaler), ('estimador', modelo)])\n",
        "\n",
        "cv = GroupKFold(n_splits = 10)\n",
        "resultados = cross_validate(pipeline, X, y, cv = cv, groups= dados.modelo, return_train_score=False)\n",
        "imprime_resultados(resultados)"
      ],
      "metadata": {
        "colab": {
          "base_uri": "https://localhost:8080/"
        },
        "id": "rTU6BVJ7CqVV",
        "outputId": "b5e4fe30-de6e-41fa-a718-336c2dafdb5f"
      },
      "execution_count": 25,
      "outputs": [
        {
          "output_type": "stream",
          "name": "stdout",
          "text": [
            "Média Acurácia 76.70\n",
            "Intervalo de Acurácia [ 73.34, 80.06 ]\n"
          ]
        }
      ]
    }
  ]
}